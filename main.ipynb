{
 "cells": [
  {
   "cell_type": "code",
   "execution_count": 1,
   "metadata": {},
   "outputs": [
    {
     "name": "stdout",
     "output_type": "stream",
     "text": [
      "Note: you may need to restart the kernel to use updated packages.\n",
      "Note: you may need to restart the kernel to use updated packages.\n",
      "Note: you may need to restart the kernel to use updated packages.\n",
      "Note: you may need to restart the kernel to use updated packages.\n",
      "Note: you may need to restart the kernel to use updated packages.\n",
      "Note: you may need to restart the kernel to use updated packages.\n"
     ]
    }
   ],
   "source": [
    "%pip install -q python-dotenv\n",
    "%pip install -q llama-index\n",
    "%pip install -q llama-index-llms-ollama\n",
    "%pip install -q llama-index-llms-openai\n",
    "%pip install -q llama-index-embeddings-huggingface\n",
    "%pip install -q llama-index-embeddings-ollama\n",
    "# %pip install -q llama-index-readers-pdf-marker\n",
    "# %pip install -q llama-index-readers-llama-parse\n",
    "# %pip install -q llama-index-readers-smart-pdf-loader\n",
    "# %pip install -q llama-index-graph-stores-neo4j"
   ]
  },
  {
   "cell_type": "code",
   "execution_count": 22,
   "metadata": {},
   "outputs": [],
   "source": [
    "BASE_URL = 'http://localhost:11434'\n",
    "MODEL_NAME = 'qwen2.5:14b'\n",
    "DOC = 'doc.md'\n",
    "\n",
    "from IPython.display import Markdown\n",
    "def print_resp(message):\n",
    "    display(Markdown(message))"
   ]
  },
  {
   "cell_type": "code",
   "execution_count": 15,
   "metadata": {},
   "outputs": [
    {
     "name": "stdout",
     "output_type": "stream",
     "text": [
      "DEBUG:httpx:load_ssl_context verify=True cert=None trust_env=True http2=False\n",
      "DEBUG:httpx:load_verify_locations cafile='/Users/tju/Workspace/projects/kg-disease-diagnostic/.venv/lib/python3.11/site-packages/certifi/cacert.pem'\n",
      "DEBUG:httpx:load_ssl_context verify=True cert=None trust_env=True http2=False\n",
      "DEBUG:httpx:load_verify_locations cafile='/Users/tju/Workspace/projects/kg-disease-diagnostic/.venv/lib/python3.11/site-packages/certifi/cacert.pem'\n",
      "DEBUG:httpx:load_ssl_context verify=True cert=None trust_env=True http2=False\n",
      "DEBUG:httpx:load_verify_locations cafile='/Users/tju/Workspace/projects/kg-disease-diagnostic/.venv/lib/python3.11/site-packages/certifi/cacert.pem'\n",
      "DEBUG:httpx:load_ssl_context verify=True cert=None trust_env=True http2=False\n",
      "DEBUG:httpx:load_verify_locations cafile='/Users/tju/Workspace/projects/kg-disease-diagnostic/.venv/lib/python3.11/site-packages/certifi/cacert.pem'\n",
      "DEBUG:httpx:load_ssl_context verify=True cert=None trust_env=True http2=False\n",
      "DEBUG:httpx:load_verify_locations cafile='/Users/tju/Workspace/projects/kg-disease-diagnostic/.venv/lib/python3.11/site-packages/certifi/cacert.pem'\n",
      "DEBUG:httpx:load_ssl_context verify=True cert=None trust_env=True http2=False\n",
      "DEBUG:httpx:load_verify_locations cafile='/Users/tju/Workspace/projects/kg-disease-diagnostic/.venv/lib/python3.11/site-packages/certifi/cacert.pem'\n"
     ]
    }
   ],
   "source": [
    "\n",
    "from llama_index.llms.ollama import Ollama\n",
    "from llama_index.embeddings.ollama import OllamaEmbedding\n",
    "import logging\n",
    "import sys\n",
    "logging.basicConfig(level=logging.DEBUG, stream=sys.stdout)\n",
    "logger = logging.getLogger()\n",
    "\n",
    "llm = Ollama(model=MODEL_NAME, \n",
    "            base_url=BASE_URL, \n",
    "            request_timeout=120,\n",
    "            son_mode=False)\n",
    "\n",
    "embedding = OllamaEmbedding(model_name=MODEL_NAME, \n",
    "                            base_url=BASE_URL)"
   ]
  },
  {
   "cell_type": "code",
   "execution_count": 18,
   "metadata": {},
   "outputs": [
    {
     "name": "stdout",
     "output_type": "stream",
     "text": [
      "DEBUG:httpx:load_ssl_context verify=True cert=None trust_env=True http2=False\n",
      "DEBUG:httpx:load_verify_locations cafile='/Users/tju/Workspace/projects/kg-disease-diagnostic/.venv/lib/python3.11/site-packages/certifi/cacert.pem'\n",
      "DEBUG:httpx:load_ssl_context verify=True cert=None trust_env=True http2=False\n",
      "DEBUG:httpx:load_verify_locations cafile='/Users/tju/Workspace/projects/kg-disease-diagnostic/.venv/lib/python3.11/site-packages/certifi/cacert.pem'\n",
      "DEBUG:httpx:load_ssl_context verify=True cert=None trust_env=True http2=False\n",
      "DEBUG:httpx:load_verify_locations cafile='/Users/tju/Workspace/projects/kg-disease-diagnostic/.venv/lib/python3.11/site-packages/certifi/cacert.pem'\n",
      "DEBUG:httpcore.connection:connect_tcp.started host='localhost' port=11434 local_address=None timeout=120.0 socket_options=None\n",
      "DEBUG:httpcore.connection:connect_tcp.complete return_value=<httpcore._backends.sync.SyncStream object at 0x3093ba350>\n",
      "DEBUG:httpcore.http11:send_request_headers.started request=<Request [b'POST']>\n",
      "DEBUG:httpcore.http11:send_request_headers.complete\n",
      "DEBUG:httpcore.http11:send_request_body.started request=<Request [b'POST']>\n",
      "DEBUG:httpcore.http11:send_request_body.complete\n",
      "DEBUG:httpcore.http11:receive_response_headers.started request=<Request [b'POST']>\n",
      "DEBUG:httpcore.http11:receive_response_headers.complete return_value=(b'HTTP/1.1', 200, b'OK', [(b'Content-Type', b'application/json; charset=utf-8'), (b'Date', b'Fri, 03 Jan 2025 10:12:46 GMT'), (b'Content-Length', b'401')])\n",
      "INFO:httpx:HTTP Request: POST http://localhost:11434/api/chat \"HTTP/1.1 200 OK\"\n",
      "DEBUG:httpcore.http11:receive_response_body.started request=<Request [b'POST']>\n",
      "DEBUG:httpcore.http11:receive_response_body.complete\n",
      "DEBUG:httpcore.http11:response_closed.started\n",
      "DEBUG:httpcore.http11:response_closed.complete\n"
     ]
    },
    {
     "data": {
      "text/markdown": [
       "Hello! How can I assist you today? Feel free to ask me any questions or tell me what you need help with."
      ],
      "text/plain": [
       "<IPython.core.display.Markdown object>"
      ]
     },
     "metadata": {},
     "output_type": "display_data"
    }
   ],
   "source": [
    "ans = llm.complete(\"hello\")\n",
    "print_resp(ans.text)"
   ]
  },
  {
   "cell_type": "code",
   "execution_count": 34,
   "metadata": {},
   "outputs": [
    {
     "name": "stdout",
     "output_type": "stream",
     "text": [
      "DEBUG:fsspec.local:open file: /Users/tju/Workspace/projects/kg-disease-diagnostic/doc.md\n",
      "DEBUG:root:143\n"
     ]
    }
   ],
   "source": [
    "from llama_index.core import SimpleDirectoryReader\n",
    "docs = SimpleDirectoryReader(input_files=[DOC]).load_data()\n",
    "logger.debug(len(docs))"
   ]
  },
  {
   "cell_type": "code",
   "execution_count": 36,
   "metadata": {},
   "outputs": [
    {
     "data": {
      "text/markdown": [
       "一、实验室分析路径\n",
       "```mermaid\n",
       "---\n",
       "title: 图20-1:自身抗体检测实验室分析路径图\n",
       "---\n",
       "stateDiagram\n",
       "ROOT: 怀疑自身免疫性疾病\n",
       "\n",
       "A: 怀疑系统性自身免疫疾病\n",
       "A1: 类风湿因子、抗中性粒细胞胞浆抗体,抗磷脂抗体及其他自身抗体检测\n",
       "A2: HEp#dash;2细胞为底物的间接免疫荧光法检测ANA\n",
       "A21: 阳性 \n",
       "A211: 抗Sm,RNP,SSA,SSB,Scl#dash;70,jo#dash;1,rib#dash;P,dsDNA,ssDNA,组蛋白抗体确诊实验检测\n",
       "A22: 阴性\n",
       "B: 怀疑器官特异性自身免疫疾病\n",
       "B1: 针对特异器官自身抗体检测 \n",
       "C1: 阴性可排除诊断或需进一步观察\n",
       "C2: 抗体阳性确诊或辅助诊断\n",
       "C21: 细胞免疫相关检测 \n",
       "C22: 体液免疫相关检测\n",
       "C23: 各类并发症相关检测\n",
       "C211: CD4,CD8,Th17,Treg\n",
       "C221: 免疫球蛋白补体等\n",
       "C231: 细胞因子,骨代谢标志物等\n",
       "%% relationships %%\n",
       "\n",
       "%% direction TB\n",
       "%% direction LR\n",
       "classDef notMoving fill:white\n",
       "classDef movement font-style:italic\n",
       "classDef badBadEvent fill:#f00,color:white,font-weight:bold,stroke-width:2px,stroke:yellow\n",
       "\n",
       "\n",
       "ROOT --> A\n",
       "ROOT --> B\n",
       "A --> A1\n",
       "A1 --> C2\n",
       "A --> A2\n",
       "A2 --> A21\n",
       "A21 --> A211\n",
       "A211 --> C2:::badBadEvent\n",
       "A2 --> A22\n",
       "A22 --> C1\n",
       "B --> B1\n",
       "B1 --> C1:::movement\n",
       "C21 --> C211\n",
       "C22 --> C221\n",
       "C23 --> C231\n",
       "C2 --> C21\n",
       "C2 --> C22\n",
       "C2 --> C23\n",
       "```"
      ],
      "text/plain": [
       "<IPython.core.display.Markdown object>"
      ]
     },
     "metadata": {},
     "output_type": "display_data"
    }
   ],
   "source": [
    "print_resp(docs[2].text)"
   ]
  }
 ],
 "metadata": {
  "kernelspec": {
   "display_name": ".venv",
   "language": "python",
   "name": "python3"
  },
  "language_info": {
   "codemirror_mode": {
    "name": "ipython",
    "version": 3
   },
   "file_extension": ".py",
   "mimetype": "text/x-python",
   "name": "python",
   "nbconvert_exporter": "python",
   "pygments_lexer": "ipython3",
   "version": "3.11.11"
  }
 },
 "nbformat": 4,
 "nbformat_minor": 2
}
